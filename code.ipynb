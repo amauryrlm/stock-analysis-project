{
 "cells": [
  {
   "cell_type": "code",
   "execution_count": 1,
   "metadata": {},
   "outputs": [
    {
     "name": "stderr",
     "output_type": "stream",
     "text": [
      "[*********************100%***********************]  22 of 22 completed"
     ]
    },
    {
     "name": "stdout",
     "output_type": "stream",
     "text": [
      "Ticker           AAPL         AMT       AMZN          BA        CVX  \\\n",
      "Date                                                                  \n",
      "2019-12-02  64.024628  184.637192  89.080002  353.079285  93.518166   \n",
      "2019-12-03  62.883060  186.082077  88.498001  349.997620  92.789566   \n",
      "2019-12-04  63.438087  187.976288  88.034500  346.776764  93.630264   \n",
      "2019-12-05  64.368782  188.126083  87.024002  343.635468  93.141853   \n",
      "2019-12-06  65.612152  186.954315  87.580002  351.995728  94.486977   \n",
      "\n",
      "Ticker            DOW        DUK      GOOGL          HD         JNJ  ...  \\\n",
      "Date                                                                 ...   \n",
      "2019-12-02  40.912788  71.236847  64.283821  191.691620  119.569336  ...   \n",
      "2019-12-03  39.881512  71.702026  64.577095  188.502930  119.395241  ...   \n",
      "2019-12-04  40.235527  72.591560  65.784103  189.797180  121.327713  ...   \n",
      "2019-12-05  40.020039  72.869041  66.184120  188.822067  121.484398  ...   \n",
      "2019-12-06  40.958965  73.252602  66.804077  189.956848  122.198196  ...   \n",
      "\n",
      "Ticker             LIN        MSFT        NEE        NFLX          PG  \\\n",
      "Date                                                                    \n",
      "2019-12-02  187.152924  143.042389  51.400562  309.989990  108.471092   \n",
      "2019-12-03  188.468170  142.812836  51.618385  306.160004  108.674416   \n",
      "2019-12-04  189.130524  143.329346  52.069611  304.320007  110.070953   \n",
      "2019-12-05  190.063293  143.405884  52.136280  302.859985  110.150505   \n",
      "2019-12-06  191.723724  145.146652  52.098511  307.350006  109.770462   \n",
      "\n",
      "Ticker            PLD       TSLA         UNH           V        XOM  \n",
      "Date                                                                 \n",
      "2019-12-02  79.162613  22.324667  259.842560  175.481110  53.685257  \n",
      "2019-12-03  79.795845  22.413334  257.278076  175.587296  53.261547  \n",
      "2019-12-04  80.121262  22.202000  259.526703  174.332397  53.865723  \n",
      "2019-12-05  80.341133  22.024668  262.016754  175.577682  53.677418  \n",
      "2019-12-06  80.411491  22.392668  261.335846  175.847931  54.540531  \n",
      "\n",
      "[5 rows x 22 columns]\n"
     ]
    },
    {
     "name": "stderr",
     "output_type": "stream",
     "text": [
      "\n"
     ]
    }
   ],
   "source": [
    "import yfinance as yf\n",
    "import pandas as pd\n",
    "\n",
    "# List of selected companies' tickers\n",
    "tickers = ['AAPL', 'MSFT', 'JNJ', 'UNH', 'JPM', 'V', 'AMZN', 'TSLA',\n",
    "           'GOOGL', 'NFLX', 'HD', 'BA', 'PG', 'KO', 'XOM', 'CVX',\n",
    "           'NEE', 'DUK', 'AMT', 'PLD', 'DOW', 'LIN']\n",
    "\n",
    "# Define the time period\n",
    "start_date = '2019-12-01'\n",
    "end_date = '2024-12-01'\n",
    "\n",
    "# Download data\n",
    "data = yf.download(tickers, start=start_date, end=end_date)\n",
    "\n",
    "# Display the adjusted closing prices\n",
    "adj_close = data['Adj Close']\n",
    "print(adj_close.head())\n"
   ]
  }
 ],
 "metadata": {
  "kernelspec": {
   "display_name": "venv",
   "language": "python",
   "name": "python3"
  },
  "language_info": {
   "codemirror_mode": {
    "name": "ipython",
    "version": 3
   },
   "file_extension": ".py",
   "mimetype": "text/x-python",
   "name": "python",
   "nbconvert_exporter": "python",
   "pygments_lexer": "ipython3",
   "version": "3.8.16"
  }
 },
 "nbformat": 4,
 "nbformat_minor": 2
}
